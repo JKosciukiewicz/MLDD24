{
 "cells": [
  {
   "cell_type": "code",
   "execution_count": 1,
   "id": "7aa51028",
   "metadata": {
    "ExecuteTime": {
     "end_time": "2024-03-20T07:55:34.576763Z",
     "start_time": "2024-03-20T07:55:34.572695Z"
    }
   },
   "outputs": [],
   "source": [
    "import sys\n",
    "sys.path.append('..')"
   ]
  },
  {
   "cell_type": "markdown",
   "id": "39fed690",
   "metadata": {},
   "source": [
    "# Drug Discovery Process\n",
    "\n",
    "---\n",
    "\n",
    "We're ready to start developing our drug discovery platform. In our previous session, we learned to create simple ADMET predictors. We trained a solubility prediction model (regression) and a blood-brain barrier permeability prediction model (classification). This week, we will download activity data to train a ligand-based model for activity prediction. This model will help us discover hits that bind to our target, which is the first step in the drug design process.\n",
    "\n",
    "![drug discovery process overview](mldd_diagram_lab2.png)\n",
    "\n",
    "# Key Molecular Properties in Drug Design\n",
    "\n",
    "---\n",
    "\n",
    "Drug design is a process that needs to take into accounts multiple parameters. First, the molecule needs to be of course active, i.e. interact with its biological target to induce some therapeutic effect. Second, this molecule should also have a set of other desirable molecular properties that are known under the term ADMET (absorption, distribution, metabolism, excretion, and toxicity). These properties ensure that our compound will reach its target and will not induce any side effects.\n",
    "\n",
    "## Activity\n",
    "\n",
    "Biological activity of a compound is measured in a laboratory by conducting biological **assays** that tests how well our molecule binds and interacts with its biological target. An assay can be done using proteins or whole cells, and there are many types of activity measurements that can be done. For example, we can test only if the molecule binds to its target or look for a specific interaction that causes a desirable effect or inhibition. The activity values are usually expressed as:\n",
    "\n",
    "- **EC$_{50}$**/**IC$_{50}$** - molecule concentration at which half of the effect or inhibition (blockage) is reached; the lower this value is, the stronger the effect induced by the molecule is.\n",
    "- **Ki** - the inhibition constant, which measures the binding affinity; again, lower values correspond to stronger binding.\n",
    "- **Inhibition in %** - the percentage of inhibited proteins.\n",
    "\n",
    "Oftentimes, XC$_{50}$ and Ki values are converted to the negative logarithmic scale. This is denoted by the letter \"*p*\" in front of the activity type. This operation reduces the impact of extremely high values. After this transformation, higher values correspond to stronger activity.\n",
    "\n",
    "For example, pIC$_{50}$ = $-\\log_{10} $ IC$_{50}$.\n",
    "\n",
    "\n",
    "## ADMET\n",
    "\n",
    "There are myriads of chemical properties that can be measured to ensure the success of our molecule. Depending on the drug target, we might want to optimize different ADMET properties. If our drug needs to work in the central nervous system, we need to check the **blood-brain barrier permeability**. Other drugs that are administered orally need to **absorbed in the intestine**. Our molecule needs to be **metabolically stable**, which means it is not metabolized before it reaches its destination. On the other hand, we need to make sure it is finally metabolized and does not accumulate in the organism. Eventually, drugs can not be **toxic** or induce any serious side effects by interacting with other biological targets (**off-targets**). This is a difficult property to optimize as toxicity is a non-specific property - there are many possible interactions that can cause toxicity, e.g. **hERG inhibition** leads to severe cardiotoxicity (blocked potassium ion channels will cause heart failure).\n",
    "\n",
    "---\n",
    "\n",
    "<div style=\"display: flex; justify-content: space-between\">\n",
    "    <div style=\"width: 20%; display: inline-block; margin: 20px\">\n",
    "        <img src=\"../../assets/profile4.png\" width=\"100%\">\n",
    "    </div>\n",
    "    <div style=\"width: 60%; display: inline-block; margin: 20px\">\n",
    "        <p><strong>Ami:</strong> Hello there! As a biologist specializing in biochemical assays, I'm excited to explain the crucial process of measuring IC50 and Ki values for compound potency and binding affinity. In our experiments, we meticulously design microplate assays, preparing compound solutions across various concentrations, including controls, and incubating them with our target enzymes, proteins, or receptors. We employ diverse assay types tailored to our targets' nature, such as enzyme inhibition assays, receptor binding assays, and cell-based assays. Following incubation, we measure activity readouts like enzyme activity or fluorescence. IC50 values are determined by analyzing dose-response curves generated from the measured data, typically through nonlinear regression, pinpointing the concentration at which 50% inhibition occurs, crucial for understanding a compound's efficacy and mechanism of action in drug development.</p>\n",
    "    </div>\n",
    "</div>\n",
    "<div style=\"width: 80%; display: block; margin: 0 20px 0\">\n",
    "    <p>When setting up a compound screening experiment, careful plate design is crucial for accurate and reliable results. Each plate should include compound solutions at various concentrations, along with positive and negative controls to validate assay performance. Replicates of each condition and technical controls help assess experimental variability and ensure data robustness. Randomizing the placement of compounds and controls across the plate minimizes systematic errors, while avoiding edge effects maintains consistency. Documenting the plate layout meticulously facilitates data analysis. Pilot experiments optimize assay conditions and confirm sensitivity. Quality control measures ensure assay reliability throughout the screening process. This comprehensive approach enhances the efficiency and reliability of compound screening experiments, guiding successful drug discovery endeavors.</p>\n",
    "    </div>\n",
    "\n",
    "---"
   ]
  },
  {
   "cell_type": "markdown",
   "id": "48922344",
   "metadata": {},
   "source": [
    "# ChEMBL\n",
    "\n",
    "[ChEMBL](https://www.ebi.ac.uk/chembl/) is a public database of bioactive compounds. The experimentally measured data points are gathered here and they can be used to train machine learning models. It should be noted that this database is manually curated, and the data is pulled from publications and patents. The quality of this data is not always perfect, and the same compound can have multiple drastically different activity values depending on the site the experiments were conducted in. Sometimes these values can contain errors, either caused by humans or incorrect parsing of source documents.\n",
    "\n",
    "![assay](https://upload.wikimedia.org/wikipedia/commons/thumb/a/a0/96_well_plate.jpg/1599px-96_well_plate.jpg)"
   ]
  },
  {
   "cell_type": "markdown",
   "id": "7c10da50",
   "metadata": {},
   "source": [
    "Activity data extracted from ChEMBL can be used to train ML models. Because we use the structural information (fingerprints or molecular graphs), these models are also called **QSAR models**, where QSAR stands for Quantitative Structure-Activity Relationship."
   ]
  },
  {
   "cell_type": "markdown",
   "id": "fca4ef60",
   "metadata": {},
   "source": [
    "**Exercise 1.** Choose one of the targets below and download activity data for this target from ChEMBL. Use one of the activity types (e.g. Ki or IC$_{50}$) to train an ML model. Split the data and print the results of evaluation on the testing set.\n",
    "\n",
    "- MAO-B (monoamine oxidase B) - its inhibitors can be used to treat symptoms of Parkinson's disease\n",
    "- ACE2 (angiotensin-converting enzyme 2) - serves as an entry point for SARS-CoV-2\n",
    "- COX-2 (cyclooxygenase 2) - the taget of non-steroidal anti-inflammatory drugs\n",
    "- 5-HT3 (serotonin receptor 3) - common target of antiemetics (drugs against vomiting nad nausea)\n",
    "- hERG - potassium ion channel that is often connected to cardiotoxicity (when inhibited)"
   ]
  },
  {
   "cell_type": "code",
   "execution_count": 4,
   "id": "643593fc",
   "metadata": {
    "ExecuteTime": {
     "end_time": "2024-03-20T07:58:35.964967Z",
     "start_time": "2024-03-20T07:58:35.961919Z"
    }
   },
   "outputs": [],
   "source": [
    "import pandas as pd\n",
    "import matplotlib.pyplot as plt\n",
    "import numpy as np\n",
    "from rdkit import Chem\n",
    "from rdkit.Chem import AllChem"
   ]
  },
  {
   "cell_type": "code",
   "execution_count": 3,
   "id": "4dac5ae8",
   "metadata": {
    "ExecuteTime": {
     "end_time": "2024-03-20T07:55:35.466868Z",
     "start_time": "2024-03-20T07:55:35.190614Z"
    }
   },
   "outputs": [
    {
     "ename": "FileNotFoundError",
     "evalue": "[Errno 2] No such file or directory: '...'",
     "output_type": "error",
     "traceback": [
      "\u001B[0;31m---------------------------------------------------------------------------\u001B[0m",
      "\u001B[0;31mFileNotFoundError\u001B[0m                         Traceback (most recent call last)",
      "Cell \u001B[0;32mIn[3], line 3\u001B[0m\n\u001B[1;32m      1\u001B[0m pd\u001B[38;5;241m.\u001B[39mset_option(\u001B[38;5;124m'\u001B[39m\u001B[38;5;124mdisplay.max_columns\u001B[39m\u001B[38;5;124m'\u001B[39m, \u001B[38;5;28;01mNone\u001B[39;00m)\n\u001B[1;32m      2\u001B[0m data_path \u001B[38;5;241m=\u001B[39m \u001B[38;5;124m\"\u001B[39m\u001B[38;5;124m...\u001B[39m\u001B[38;5;124m\"\u001B[39m  \u001B[38;5;66;03m# TODO: You should change this\u001B[39;00m\n\u001B[0;32m----> 3\u001B[0m df \u001B[38;5;241m=\u001B[39m \u001B[43mpd\u001B[49m\u001B[38;5;241;43m.\u001B[39;49m\u001B[43mread_csv\u001B[49m\u001B[43m(\u001B[49m\u001B[43mdata_path\u001B[49m\u001B[43m,\u001B[49m\u001B[43m \u001B[49m\u001B[43msep\u001B[49m\u001B[38;5;241;43m=\u001B[39;49m\u001B[38;5;124;43m'\u001B[39;49m\u001B[38;5;124;43m;\u001B[39;49m\u001B[38;5;124;43m'\u001B[39;49m\u001B[43m)\u001B[49m\n\u001B[1;32m      4\u001B[0m df\u001B[38;5;241m.\u001B[39mhead()\n",
      "File \u001B[0;32m~/miniconda3/envs/mldd24/lib/python3.10/site-packages/pandas/io/parsers/readers.py:1026\u001B[0m, in \u001B[0;36mread_csv\u001B[0;34m(filepath_or_buffer, sep, delimiter, header, names, index_col, usecols, dtype, engine, converters, true_values, false_values, skipinitialspace, skiprows, skipfooter, nrows, na_values, keep_default_na, na_filter, verbose, skip_blank_lines, parse_dates, infer_datetime_format, keep_date_col, date_parser, date_format, dayfirst, cache_dates, iterator, chunksize, compression, thousands, decimal, lineterminator, quotechar, quoting, doublequote, escapechar, comment, encoding, encoding_errors, dialect, on_bad_lines, delim_whitespace, low_memory, memory_map, float_precision, storage_options, dtype_backend)\u001B[0m\n\u001B[1;32m   1013\u001B[0m kwds_defaults \u001B[38;5;241m=\u001B[39m _refine_defaults_read(\n\u001B[1;32m   1014\u001B[0m     dialect,\n\u001B[1;32m   1015\u001B[0m     delimiter,\n\u001B[0;32m   (...)\u001B[0m\n\u001B[1;32m   1022\u001B[0m     dtype_backend\u001B[38;5;241m=\u001B[39mdtype_backend,\n\u001B[1;32m   1023\u001B[0m )\n\u001B[1;32m   1024\u001B[0m kwds\u001B[38;5;241m.\u001B[39mupdate(kwds_defaults)\n\u001B[0;32m-> 1026\u001B[0m \u001B[38;5;28;01mreturn\u001B[39;00m \u001B[43m_read\u001B[49m\u001B[43m(\u001B[49m\u001B[43mfilepath_or_buffer\u001B[49m\u001B[43m,\u001B[49m\u001B[43m \u001B[49m\u001B[43mkwds\u001B[49m\u001B[43m)\u001B[49m\n",
      "File \u001B[0;32m~/miniconda3/envs/mldd24/lib/python3.10/site-packages/pandas/io/parsers/readers.py:620\u001B[0m, in \u001B[0;36m_read\u001B[0;34m(filepath_or_buffer, kwds)\u001B[0m\n\u001B[1;32m    617\u001B[0m _validate_names(kwds\u001B[38;5;241m.\u001B[39mget(\u001B[38;5;124m\"\u001B[39m\u001B[38;5;124mnames\u001B[39m\u001B[38;5;124m\"\u001B[39m, \u001B[38;5;28;01mNone\u001B[39;00m))\n\u001B[1;32m    619\u001B[0m \u001B[38;5;66;03m# Create the parser.\u001B[39;00m\n\u001B[0;32m--> 620\u001B[0m parser \u001B[38;5;241m=\u001B[39m \u001B[43mTextFileReader\u001B[49m\u001B[43m(\u001B[49m\u001B[43mfilepath_or_buffer\u001B[49m\u001B[43m,\u001B[49m\u001B[43m \u001B[49m\u001B[38;5;241;43m*\u001B[39;49m\u001B[38;5;241;43m*\u001B[39;49m\u001B[43mkwds\u001B[49m\u001B[43m)\u001B[49m\n\u001B[1;32m    622\u001B[0m \u001B[38;5;28;01mif\u001B[39;00m chunksize \u001B[38;5;129;01mor\u001B[39;00m iterator:\n\u001B[1;32m    623\u001B[0m     \u001B[38;5;28;01mreturn\u001B[39;00m parser\n",
      "File \u001B[0;32m~/miniconda3/envs/mldd24/lib/python3.10/site-packages/pandas/io/parsers/readers.py:1620\u001B[0m, in \u001B[0;36mTextFileReader.__init__\u001B[0;34m(self, f, engine, **kwds)\u001B[0m\n\u001B[1;32m   1617\u001B[0m     \u001B[38;5;28mself\u001B[39m\u001B[38;5;241m.\u001B[39moptions[\u001B[38;5;124m\"\u001B[39m\u001B[38;5;124mhas_index_names\u001B[39m\u001B[38;5;124m\"\u001B[39m] \u001B[38;5;241m=\u001B[39m kwds[\u001B[38;5;124m\"\u001B[39m\u001B[38;5;124mhas_index_names\u001B[39m\u001B[38;5;124m\"\u001B[39m]\n\u001B[1;32m   1619\u001B[0m \u001B[38;5;28mself\u001B[39m\u001B[38;5;241m.\u001B[39mhandles: IOHandles \u001B[38;5;241m|\u001B[39m \u001B[38;5;28;01mNone\u001B[39;00m \u001B[38;5;241m=\u001B[39m \u001B[38;5;28;01mNone\u001B[39;00m\n\u001B[0;32m-> 1620\u001B[0m \u001B[38;5;28mself\u001B[39m\u001B[38;5;241m.\u001B[39m_engine \u001B[38;5;241m=\u001B[39m \u001B[38;5;28;43mself\u001B[39;49m\u001B[38;5;241;43m.\u001B[39;49m\u001B[43m_make_engine\u001B[49m\u001B[43m(\u001B[49m\u001B[43mf\u001B[49m\u001B[43m,\u001B[49m\u001B[43m \u001B[49m\u001B[38;5;28;43mself\u001B[39;49m\u001B[38;5;241;43m.\u001B[39;49m\u001B[43mengine\u001B[49m\u001B[43m)\u001B[49m\n",
      "File \u001B[0;32m~/miniconda3/envs/mldd24/lib/python3.10/site-packages/pandas/io/parsers/readers.py:1880\u001B[0m, in \u001B[0;36mTextFileReader._make_engine\u001B[0;34m(self, f, engine)\u001B[0m\n\u001B[1;32m   1878\u001B[0m     \u001B[38;5;28;01mif\u001B[39;00m \u001B[38;5;124m\"\u001B[39m\u001B[38;5;124mb\u001B[39m\u001B[38;5;124m\"\u001B[39m \u001B[38;5;129;01mnot\u001B[39;00m \u001B[38;5;129;01min\u001B[39;00m mode:\n\u001B[1;32m   1879\u001B[0m         mode \u001B[38;5;241m+\u001B[39m\u001B[38;5;241m=\u001B[39m \u001B[38;5;124m\"\u001B[39m\u001B[38;5;124mb\u001B[39m\u001B[38;5;124m\"\u001B[39m\n\u001B[0;32m-> 1880\u001B[0m \u001B[38;5;28mself\u001B[39m\u001B[38;5;241m.\u001B[39mhandles \u001B[38;5;241m=\u001B[39m \u001B[43mget_handle\u001B[49m\u001B[43m(\u001B[49m\n\u001B[1;32m   1881\u001B[0m \u001B[43m    \u001B[49m\u001B[43mf\u001B[49m\u001B[43m,\u001B[49m\n\u001B[1;32m   1882\u001B[0m \u001B[43m    \u001B[49m\u001B[43mmode\u001B[49m\u001B[43m,\u001B[49m\n\u001B[1;32m   1883\u001B[0m \u001B[43m    \u001B[49m\u001B[43mencoding\u001B[49m\u001B[38;5;241;43m=\u001B[39;49m\u001B[38;5;28;43mself\u001B[39;49m\u001B[38;5;241;43m.\u001B[39;49m\u001B[43moptions\u001B[49m\u001B[38;5;241;43m.\u001B[39;49m\u001B[43mget\u001B[49m\u001B[43m(\u001B[49m\u001B[38;5;124;43m\"\u001B[39;49m\u001B[38;5;124;43mencoding\u001B[39;49m\u001B[38;5;124;43m\"\u001B[39;49m\u001B[43m,\u001B[49m\u001B[43m \u001B[49m\u001B[38;5;28;43;01mNone\u001B[39;49;00m\u001B[43m)\u001B[49m\u001B[43m,\u001B[49m\n\u001B[1;32m   1884\u001B[0m \u001B[43m    \u001B[49m\u001B[43mcompression\u001B[49m\u001B[38;5;241;43m=\u001B[39;49m\u001B[38;5;28;43mself\u001B[39;49m\u001B[38;5;241;43m.\u001B[39;49m\u001B[43moptions\u001B[49m\u001B[38;5;241;43m.\u001B[39;49m\u001B[43mget\u001B[49m\u001B[43m(\u001B[49m\u001B[38;5;124;43m\"\u001B[39;49m\u001B[38;5;124;43mcompression\u001B[39;49m\u001B[38;5;124;43m\"\u001B[39;49m\u001B[43m,\u001B[49m\u001B[43m \u001B[49m\u001B[38;5;28;43;01mNone\u001B[39;49;00m\u001B[43m)\u001B[49m\u001B[43m,\u001B[49m\n\u001B[1;32m   1885\u001B[0m \u001B[43m    \u001B[49m\u001B[43mmemory_map\u001B[49m\u001B[38;5;241;43m=\u001B[39;49m\u001B[38;5;28;43mself\u001B[39;49m\u001B[38;5;241;43m.\u001B[39;49m\u001B[43moptions\u001B[49m\u001B[38;5;241;43m.\u001B[39;49m\u001B[43mget\u001B[49m\u001B[43m(\u001B[49m\u001B[38;5;124;43m\"\u001B[39;49m\u001B[38;5;124;43mmemory_map\u001B[39;49m\u001B[38;5;124;43m\"\u001B[39;49m\u001B[43m,\u001B[49m\u001B[43m \u001B[49m\u001B[38;5;28;43;01mFalse\u001B[39;49;00m\u001B[43m)\u001B[49m\u001B[43m,\u001B[49m\n\u001B[1;32m   1886\u001B[0m \u001B[43m    \u001B[49m\u001B[43mis_text\u001B[49m\u001B[38;5;241;43m=\u001B[39;49m\u001B[43mis_text\u001B[49m\u001B[43m,\u001B[49m\n\u001B[1;32m   1887\u001B[0m \u001B[43m    \u001B[49m\u001B[43merrors\u001B[49m\u001B[38;5;241;43m=\u001B[39;49m\u001B[38;5;28;43mself\u001B[39;49m\u001B[38;5;241;43m.\u001B[39;49m\u001B[43moptions\u001B[49m\u001B[38;5;241;43m.\u001B[39;49m\u001B[43mget\u001B[49m\u001B[43m(\u001B[49m\u001B[38;5;124;43m\"\u001B[39;49m\u001B[38;5;124;43mencoding_errors\u001B[39;49m\u001B[38;5;124;43m\"\u001B[39;49m\u001B[43m,\u001B[49m\u001B[43m \u001B[49m\u001B[38;5;124;43m\"\u001B[39;49m\u001B[38;5;124;43mstrict\u001B[39;49m\u001B[38;5;124;43m\"\u001B[39;49m\u001B[43m)\u001B[49m\u001B[43m,\u001B[49m\n\u001B[1;32m   1888\u001B[0m \u001B[43m    \u001B[49m\u001B[43mstorage_options\u001B[49m\u001B[38;5;241;43m=\u001B[39;49m\u001B[38;5;28;43mself\u001B[39;49m\u001B[38;5;241;43m.\u001B[39;49m\u001B[43moptions\u001B[49m\u001B[38;5;241;43m.\u001B[39;49m\u001B[43mget\u001B[49m\u001B[43m(\u001B[49m\u001B[38;5;124;43m\"\u001B[39;49m\u001B[38;5;124;43mstorage_options\u001B[39;49m\u001B[38;5;124;43m\"\u001B[39;49m\u001B[43m,\u001B[49m\u001B[43m \u001B[49m\u001B[38;5;28;43;01mNone\u001B[39;49;00m\u001B[43m)\u001B[49m\u001B[43m,\u001B[49m\n\u001B[1;32m   1889\u001B[0m \u001B[43m\u001B[49m\u001B[43m)\u001B[49m\n\u001B[1;32m   1890\u001B[0m \u001B[38;5;28;01massert\u001B[39;00m \u001B[38;5;28mself\u001B[39m\u001B[38;5;241m.\u001B[39mhandles \u001B[38;5;129;01mis\u001B[39;00m \u001B[38;5;129;01mnot\u001B[39;00m \u001B[38;5;28;01mNone\u001B[39;00m\n\u001B[1;32m   1891\u001B[0m f \u001B[38;5;241m=\u001B[39m \u001B[38;5;28mself\u001B[39m\u001B[38;5;241m.\u001B[39mhandles\u001B[38;5;241m.\u001B[39mhandle\n",
      "File \u001B[0;32m~/miniconda3/envs/mldd24/lib/python3.10/site-packages/pandas/io/common.py:873\u001B[0m, in \u001B[0;36mget_handle\u001B[0;34m(path_or_buf, mode, encoding, compression, memory_map, is_text, errors, storage_options)\u001B[0m\n\u001B[1;32m    868\u001B[0m \u001B[38;5;28;01melif\u001B[39;00m \u001B[38;5;28misinstance\u001B[39m(handle, \u001B[38;5;28mstr\u001B[39m):\n\u001B[1;32m    869\u001B[0m     \u001B[38;5;66;03m# Check whether the filename is to be opened in binary mode.\u001B[39;00m\n\u001B[1;32m    870\u001B[0m     \u001B[38;5;66;03m# Binary mode does not support 'encoding' and 'newline'.\u001B[39;00m\n\u001B[1;32m    871\u001B[0m     \u001B[38;5;28;01mif\u001B[39;00m ioargs\u001B[38;5;241m.\u001B[39mencoding \u001B[38;5;129;01mand\u001B[39;00m \u001B[38;5;124m\"\u001B[39m\u001B[38;5;124mb\u001B[39m\u001B[38;5;124m\"\u001B[39m \u001B[38;5;129;01mnot\u001B[39;00m \u001B[38;5;129;01min\u001B[39;00m ioargs\u001B[38;5;241m.\u001B[39mmode:\n\u001B[1;32m    872\u001B[0m         \u001B[38;5;66;03m# Encoding\u001B[39;00m\n\u001B[0;32m--> 873\u001B[0m         handle \u001B[38;5;241m=\u001B[39m \u001B[38;5;28;43mopen\u001B[39;49m\u001B[43m(\u001B[49m\n\u001B[1;32m    874\u001B[0m \u001B[43m            \u001B[49m\u001B[43mhandle\u001B[49m\u001B[43m,\u001B[49m\n\u001B[1;32m    875\u001B[0m \u001B[43m            \u001B[49m\u001B[43mioargs\u001B[49m\u001B[38;5;241;43m.\u001B[39;49m\u001B[43mmode\u001B[49m\u001B[43m,\u001B[49m\n\u001B[1;32m    876\u001B[0m \u001B[43m            \u001B[49m\u001B[43mencoding\u001B[49m\u001B[38;5;241;43m=\u001B[39;49m\u001B[43mioargs\u001B[49m\u001B[38;5;241;43m.\u001B[39;49m\u001B[43mencoding\u001B[49m\u001B[43m,\u001B[49m\n\u001B[1;32m    877\u001B[0m \u001B[43m            \u001B[49m\u001B[43merrors\u001B[49m\u001B[38;5;241;43m=\u001B[39;49m\u001B[43merrors\u001B[49m\u001B[43m,\u001B[49m\n\u001B[1;32m    878\u001B[0m \u001B[43m            \u001B[49m\u001B[43mnewline\u001B[49m\u001B[38;5;241;43m=\u001B[39;49m\u001B[38;5;124;43m\"\u001B[39;49m\u001B[38;5;124;43m\"\u001B[39;49m\u001B[43m,\u001B[49m\n\u001B[1;32m    879\u001B[0m \u001B[43m        \u001B[49m\u001B[43m)\u001B[49m\n\u001B[1;32m    880\u001B[0m     \u001B[38;5;28;01melse\u001B[39;00m:\n\u001B[1;32m    881\u001B[0m         \u001B[38;5;66;03m# Binary mode\u001B[39;00m\n\u001B[1;32m    882\u001B[0m         handle \u001B[38;5;241m=\u001B[39m \u001B[38;5;28mopen\u001B[39m(handle, ioargs\u001B[38;5;241m.\u001B[39mmode)\n",
      "\u001B[0;31mFileNotFoundError\u001B[0m: [Errno 2] No such file or directory: '...'"
     ]
    }
   ],
   "source": [
    "pd.set_option('display.max_columns', None)\n",
    "data_path = \"...\"  # TODO: You should change this\n",
    "df = pd.read_csv(data_path, sep=';')\n",
    "df.head()"
   ]
  },
  {
   "cell_type": "code",
   "execution_count": null,
   "id": "9182e4f9",
   "metadata": {
    "ExecuteTime": {
     "end_time": "2024-03-20T07:55:35.468392Z",
     "start_time": "2024-03-20T07:55:35.468329Z"
    }
   },
   "outputs": [],
   "source": [
    "activity_type = 'IC50'  # TODO: You can change this\n",
    "relevant_columns = ['Molecule ChEMBL ID', 'Molecule Name', 'Molecular Weight', '#RO5 Violations', 'Smiles',\n",
    "                    'Standard Value', 'Standard Units', 'pChEMBL Value']\n",
    "df = df[(df['Standard Type'] == activity_type) & (df['Standard Relation'].str.contains('='))][relevant_columns]\n",
    "df"
   ]
  },
  {
   "cell_type": "code",
   "execution_count": null,
   "id": "0ca06a54",
   "metadata": {},
   "outputs": [],
   "source": [
    "from sklearn.model_selection import train_test_split\n",
    "\n",
    "df_train, df_test = train_test_split(df, test_size=0.2)\n",
    "#zaimplementować scaffold split (gotowy kod w rdkit) / time split\n",
    "len(df_train), len(df_test)"
   ]
  },
  {
   "cell_type": "code",
   "execution_count": null,
   "id": "ef4581a3",
   "metadata": {},
   "outputs": [],
   "source": [
    "# TODO: Use your training script\n",
    "#mozna wykorzystać modele i featurizery z lab 1\n",
    "featurizer = ...\n",
    "X_train, y_train = featurizer(df_train)\n",
    "X_test, y_test = featurizer(df_test)\n",
    "\n",
    "model = ...\n",
    "model.fit(X_train, y_train)\n",
    "model.score(X_test, y_test)"
   ]
  },
  {
   "cell_type": "markdown",
   "id": "b19db5ec",
   "metadata": {},
   "source": [
    "If you want to automate your data pipelines, you can use the ChEMBL Python API, as shown in the example below."
   ]
  },
  {
   "cell_type": "code",
   "execution_count": null,
   "id": "2d49d665",
   "metadata": {},
   "outputs": [],
   "source": [
    "from chembl_webresource_client.new_client import new_client\n",
    "from tqdm.notebook import tqdm\n",
    "\n",
    "target = new_client.target\n",
    "activity = new_client.activity\n",
    "bace = target.filter(pref_name__iexact='Beta secretase 2').only('target_chembl_id')[0]\n",
    "activities_provider = activity.filter(target_chembl_id=bace['target_chembl_id']).filter(standard_type=\"IC50\")\n",
    "activities = list(tqdm(activities_provider))\n",
    "df_bace = pd.DataFrame.from_records(activities)"
   ]
  },
  {
   "cell_type": "code",
   "execution_count": null,
   "id": "63454260",
   "metadata": {},
   "outputs": [],
   "source": [
    "molecule = new_client.molecule\n",
    "compounds_provider = molecule.filter(\n",
    "    molecule_chembl_id__in=list(df_bace[\"molecule_chembl_id\"])\n",
    ").only(\"molecule_chembl_id\", \"molecule_structures\")\n",
    "compounds = list(tqdm(compounds_provider))\n",
    "df_cmpds = pd.DataFrame.from_records(compounds)\n",
    "print(f\"DataFrame shape: {df_cmpds.shape}\")"
   ]
  },
  {
   "cell_type": "markdown",
   "id": "79b84d43",
   "metadata": {},
   "source": [
    "**(optional) Excercise 1.1.** *(advanced data splitting methods)*\n",
    "\n",
    "You might be surprised how good results you can achieve using a random data split. The model performance measured this way can be misleading as ChEMBL contains many similar compounds, series of compounds containing the same scaffold, or even duplicated records. Thus, a better form of evaluation would be to employ a more advanced splitting method, e.g. **scaffold-based split** in which all compounds containing the same scaffold are put in the same set. Another option is to use a **time-based split** because most records in ChEBML should be tagged with the date of their publication. \n",
    "\n",
    "Don't be discouraged by the lower results you obtain with these splits. By evaluating your model this way, you get more realistic scores that better reflect the future use cases of your model. The fact that lower evaluation scores may correspond to a better model is known as the **Kubinyi paradox**.\n",
    "\n",
    "You can now implement a more advanced data split and compare the prediction results on the testing set."
   ]
  },
  {
   "cell_type": "code",
   "execution_count": null,
   "id": "75da0975",
   "metadata": {},
   "outputs": [],
   "source": [
    "# TODO repeat training with scaffold/time/clustering-based split"
   ]
  },
  {
   "cell_type": "markdown",
   "id": "1b4adf86",
   "metadata": {},
   "source": [
    "**(optional) Excercise 1.2.** *(label transformations)*\n",
    "\n",
    "As mentioned above, using the logarithmic values can improve the prediction results by eliminating extreme values. Another option is to transform continuous measurements into binary classes, where active compounds are those with IC$_{50}$/Ki values below a certain treshold, and the rest is assumed inactive. This approach can also help dealing with inaccurate noisy measurements.\n",
    "\n",
    "Try to convert labels into pIC$_{50}$/pKi values or change the regression task to a binary classification problem."
   ]
  },
  {
   "cell_type": "code",
   "execution_count": null,
   "id": "c6c50659",
   "metadata": {},
   "outputs": [],
   "source": [
    "activity_threshold = 100\n",
    "df['class'] = (df['Standard Value'] <= activity_threshold).astype(int)\n",
    "df"
   ]
  },
  {
   "cell_type": "code",
   "execution_count": null,
   "id": "ff25db02",
   "metadata": {},
   "outputs": [],
   "source": [
    "# TODO: classification setup"
   ]
  },
  {
   "cell_type": "markdown",
   "id": "f52bdb65",
   "metadata": {},
   "source": [
    "**(optional) Excercise 1.3.** *(exploratory data analysis, data filtering)*\n",
    "\n",
    "Can you find any discrepancies in the data? For example, do you find any outliers or duplicated SMILES strings? Can you solve these problems?"
   ]
  },
  {
   "cell_type": "code",
   "execution_count": null,
   "id": "e04424b6",
   "metadata": {},
   "outputs": [],
   "source": [
    "# Hint: A dot in the SMILES string indicates multiple compounds (this is a separator)\n",
    "df[df.Smiles.str.contains('\\.')]\n",
    "\n",
    "# TODO: Perform Exploratory Data Analysis"
   ]
  },
  {
   "cell_type": "markdown",
   "id": "05485c54",
   "metadata": {},
   "source": [
    "# ZINC\n",
    "\n",
    "[ZINC](https://zinc.docking.org/) is a database of commercially available compounds. This data can be used for **virtual screening**, i.e. finding active molecules using only *in silico* (computer) methods. These compounds can be then purchased and tested *in vitro* (in cells or biomolecules) or *in vivo* (in living organisms).\n",
    "\n",
    "---\n",
    "\n",
    "<div style=\"display: flex; justify-content: space-between\">\n",
    "    <div style=\"width: 20%; display: inline-block; margin: 20px\">\n",
    "        <img src=\"../../assets/profile1.png\" width=\"100%\">\n",
    "    </div>\n",
    "    <div style=\"width: 60%; display: inline-block; margin: 20px\">\n",
    "        <p><strong>Nitro:</strong> Hi there! In hit discovery, high-throughput screening plays a crucial role by swiftly evaluating vast compound libraries for potential drug candidates. Molecules for screening can be sourced from diverse sources such as chemical libraries, natural products, or even synthesized compounds. In high-throughput experiments utilizing commercially available compound libraries, thousands to millions of compounds are screened simultaneously against a specific biological target. Typically, automated robotic systems handle the process, dispensing small volumes of compounds into assay plates containing the target of interest. These assays are designed to detect interactions between the compounds and the target, such as binding or inhibition. Following incubation, the plates are analyzed using various detection methods, such as fluorescence, luminescence, or absorbance, to identify hits. Hits are compounds that exhibit the desired activity or effect on the target. These experiments enable rapid screening of immense compound libraries, accelerating the hit discovery process in drug development.</p>\n",
    "    </div>\n",
    "</div>\n",
    "<div style=\"width: 80%; display: inline-block; margin: 0 20px 0\">\n",
    "        <p>Techniques like DNA-Encoded Libraries (DELs), fragment-based screens, and phenotypic screens offer distinct approaches to identify hits. DELs enable rapid screening of extensive compound collections with unique DNA tags, while fragment-based screens focus on identifying small, low molecular weight compounds that may serve as starting points for drug development. Phenotypic screens, on the other hand, assess compounds based on their cellular effects, allowing for the discovery of drugs for complex diseases. Phenotypic screening, such as high-content screening, can measure various cellular features and processes in fluorescence microscopy images, including cell morphology, protein localization, organelle structure, cell cycle progression, and changes in signaling pathways or gene expression levels. Each technique has its strengths, contributing to the efficiency and success of hit discovery endeavors.</p>\n",
    "</div>\n",
    "\n",
    "---"
   ]
  },
  {
   "cell_type": "markdown",
   "id": "26a93a55",
   "metadata": {},
   "source": [
    "**Exercise 2.** Perform virtual screening. Use the data in the `mystery_target.csv` file to train a model and use it to find the most active compounds in a ZINC subset. Which compounds should be selected to be purchased or synthesized?\n",
    "\n",
    "Save the output as a CSV file containing 100 compounds (SMILES strings) and their predicted activity values."
   ]
  },
  {
   "cell_type": "code",
   "execution_count": 6,
   "id": "a87fc1e0",
   "metadata": {
    "ExecuteTime": {
     "end_time": "2024-03-20T08:19:22.532945Z",
     "start_time": "2024-03-20T08:19:22.518684Z"
    }
   },
   "outputs": [
    {
     "ename": "NameError",
     "evalue": "name 'results' is not defined",
     "output_type": "error",
     "traceback": [
      "\u001B[0;31m---------------------------------------------------------------------------\u001B[0m",
      "\u001B[0;31mNameError\u001B[0m                                 Traceback (most recent call last)",
      "Cell \u001B[0;32mIn[6], line 5\u001B[0m\n\u001B[1;32m      2\u001B[0m df \u001B[38;5;241m=\u001B[39m pd\u001B[38;5;241m.\u001B[39mread_csv(\u001B[38;5;124m'\u001B[39m\u001B[38;5;124mmystery_target.csv\u001B[39m\u001B[38;5;124m'\u001B[39m)\n\u001B[1;32m      4\u001B[0m \u001B[38;5;66;03m# save the selected 100 compounds\u001B[39;00m\n\u001B[0;32m----> 5\u001B[0m \u001B[43mresults\u001B[49m\u001B[38;5;241m.\u001B[39mto_csv(\u001B[38;5;124m'\u001B[39m\u001B[38;5;124mresults.csv\u001B[39m\u001B[38;5;124m'\u001B[39m)\n",
      "\u001B[0;31mNameError\u001B[0m: name 'results' is not defined"
     ]
    }
   ],
   "source": [
    "# TODO: inference: (1) load data (2) convert representation (3) predict activity (4) show drug candidates\n",
    "df = pd.read_csv('mystery_target.csv')\n",
    "\n",
    "# save the selected 100 compounds\n",
    "results.to_csv('results.csv')"
   ]
  },
  {
   "cell_type": "markdown",
   "id": "ba027987",
   "metadata": {},
   "source": [
    "**(optional) Exercise 2.1.** *(Compound novelty and diversity)*\n",
    "\n",
    "How similar are the selected compounds to the training data? Can you measure the diversity of these compounds? How should these values impact your selection?"
   ]
  },
  {
   "cell_type": "code",
   "execution_count": 7,
   "id": "0dc65ca3",
   "metadata": {
    "ExecuteTime": {
     "end_time": "2024-03-20T08:19:23.353247Z",
     "start_time": "2024-03-20T08:19:23.351608Z"
    }
   },
   "outputs": [],
   "source": [
    "# TODO: Check structural similarity"
   ]
  },
  {
   "cell_type": "markdown",
   "id": "738763e0",
   "metadata": {},
   "source": [
    "---\n",
    "\n",
    "<div style=\"display: flex; justify-content: space-between\">\n",
    "    <div style=\"width: 20%; display: inline-block; margin: 20px\">\n",
    "        <img src=\"../../assets/profile2.png\" width=\"100%\">\n",
    "    </div>\n",
    "    <div style=\"width: 60%; display: inline-block; margin: 20px\">\n",
    "        <p><strong>Ester:</strong> \n",
    "Hey there, fellow data voyagers and knowledge seekers! In data analysis, especially in fields like chemistry and biology, we often deal with datasets that have a large number of features or dimensions. Each feature represents a different aspect or property of the data. While having a rich set of features can provide valuable insights, it can also pose challenges. One such challenge is the curse of dimensionality.</p>\n",
    "        <p>As the number of dimensions increases, the amount of data required to generalize accurately increases exponentially. Moreover, high-dimensional data can be difficult to visualize and interpret, making it challenging to extract meaningful patterns or relationships.</p>\n",
    "        <p>This is where dimensionality reduction techniques come into play. Dimensionality reduction refers to the process of reducing the number of features in a dataset while preserving as much relevant information as possible.</p>\n",
    "    </div>\n",
    "</div>\n",
    "<div style=\"width: 80%; display: inline-block; margin: 0 20px 0\">\n",
    "<h4>Principal Component Analysis (PCA):</h4>\n",
    "\n",
    "Imagine you have a bunch of points in space representing different things (like chemicals). PCA helps you find the most important directions (called principal components) along which these points vary the most. It squishes and rotates the space so that the first principal component points in the direction where the data varies the most, the second principal component points in the direction where the data varies the second most, and so on. This helps in reducing the dimensions of the data while retaining most of its variance.\n",
    "\n",
    "<h4>t-Distributed Stochastic Neighbor Embedding (t-SNE):</h4>\n",
    "\n",
    "t-SNE is like PCA's more artistic cousin. Instead of just focusing on variance, it's more interested in keeping similar things close together and dissimilar things far apart. It measures the similarity between points in high-dimensional space and then tries to represent those similarities in a lower-dimensional space. It's really good at preserving local structure, so nearby points in high-dimensional space tend to stay nearby in the visualization.\n",
    "\n",
    "<h4>Insights from these plots:</h4>\n",
    "\n",
    "From PCA plots, you can see which properties of chemicals contribute most to their variation. For example, you might find that compounds with similar structures or properties cluster together.\n",
    "\n",
    "From t-SNE plots, you can see how similar or dissimilar compounds are to each other. Clusters of similar compounds will appear as tight groups, while outliers or distinct classes will be more spread out.\n",
    "\n",
    "In both cases, these plots help chemists understand the relationships between different chemicals, identify outliers, and potentially discover new trends or groupings that were not immediately obvious from the raw data.\n",
    "</div>\n",
    "\n",
    "---\n",
    "\n",
    "You can use **t-SNE** to find structural similarities in your dataset. t-SNE is a tool for high-dimensional data visualization (**dimensionality reduction**). It transforms n-dimensional data into 2-dimensional map in which distances should be proportional to the distances in the original space."
   ]
  },
  {
   "cell_type": "code",
   "execution_count": 8,
   "id": "3fc49217",
   "metadata": {
    "ExecuteTime": {
     "end_time": "2024-03-20T08:19:25.985361Z",
     "start_time": "2024-03-20T08:19:23.858150Z"
    }
   },
   "outputs": [],
   "source": [
    "from sklearn.manifold import TSNE\n",
    "\n",
    "def get_morgan(smiles):\n",
    "    mol = Chem.MolFromSmiles(smiles)\n",
    "    fingerprint = AllChem.GetMorganFingerprintAsBitVect(mol, radius=4)\n",
    "    return np.array(fingerprint)\n",
    "\n",
    "df_zinc = pd.read_csv('zinc.smi', sep=' ', index_col=1).sample(n=1000)\n",
    "df_zinc['fingerprint'] = [get_morgan(smiles) for smiles in df_zinc.smiles]"
   ]
  },
  {
   "cell_type": "code",
   "execution_count": 9,
   "id": "edc0aac3",
   "metadata": {
    "ExecuteTime": {
     "end_time": "2024-03-20T08:19:28.537527Z",
     "start_time": "2024-03-20T08:19:25.986457Z"
    }
   },
   "outputs": [
    {
     "name": "stderr",
     "output_type": "stream",
     "text": [
      "/Users/jkosciukiewicz/miniconda3/envs/mldd24/lib/python3.10/site-packages/sklearn/metrics/pairwise.py:2317: DataConversionWarning: Data was converted to boolean for metric jaccard\n",
      "  warnings.warn(msg, DataConversionWarning)\n"
     ]
    }
   ],
   "source": [
    "tsne = TSNE(metric='jaccard')\n",
    "components = tsne.fit_transform(np.stack(df_zinc.fingerprint))"
   ]
  },
  {
   "cell_type": "code",
   "execution_count": 10,
   "id": "4d2af722",
   "metadata": {
    "ExecuteTime": {
     "end_time": "2024-03-20T08:19:28.595898Z",
     "start_time": "2024-03-20T08:19:28.538538Z"
    }
   },
   "outputs": [
    {
     "data": {
      "text/plain": "<Figure size 640x480 with 1 Axes>",
      "image/png": "[encoded data removed]"
     },
     "metadata": {},
     "output_type": "display_data"
    }
   ],
   "source": [
    "plt.scatter(components[:, 0], components[:, 1], s=10)\n",
    "plt.gca().set_aspect('equal')\n",
    "plt.title('t-SNE map of a ZINC subset')\n",
    "plt.xlabel('dim 1')\n",
    "plt.ylabel('dim 2')\n",
    "plt.show()"
   ]
  },
  {
   "cell_type": "markdown",
   "id": "724b5645",
   "metadata": {},
   "source": [
    "**(optional) Exercise 2.2.** *(Additional ADMET filters)*\n",
    "\n",
    "When selecting compounds, we need to consider also other properties, e.g. toxicity. Some structural patterns are well known to cause issues in terms of toxicity or synthesizability. We can quickly filter out compounds containing these patterns using their SMARTS strings (\"regular expressions\" for SMILES).\n",
    "\n",
    "Use [SureChEMBL](https://www.surechembl.org/search/) to remove problematic compounds."
   ]
  },
  {
   "cell_type": "code",
   "execution_count": 11,
   "id": "da4176ed",
   "metadata": {
    "ExecuteTime": {
     "end_time": "2024-03-20T08:19:28.598786Z",
     "start_time": "2024-03-20T08:19:28.597183Z"
    }
   },
   "outputs": [],
   "source": [
    "# TODO: Use SMARTS to filter out compounds"
   ]
  },
  {
   "cell_type": "markdown",
   "id": "a026098b",
   "metadata": {},
   "source": [
    "# PubChem"
   ]
  },
  {
   "cell_type": "markdown",
   "id": "b58edab6",
   "metadata": {},
   "source": [
    "[PubChem](https://pubchem.ncbi.nlm.nih.gov/) is a database of chemical information about small molecules. It contains various ADMET properties and 3D crystal structures of these molecules. You can easily find any compound using the SMILES representation or by drawing the structure in the tool on the website."
   ]
  },
  {
   "cell_type": "markdown",
   "id": "6fa5b555",
   "metadata": {},
   "source": [
    "**(optional) Exercise 3.** What information can you find about your selected top compounds?"
   ]
  },
  {
   "cell_type": "code",
   "outputs": [
    {
     "name": "stdout",
     "output_type": "stream",
     "text": [
      "3.89 ns ± 0.00932 ns per loop (mean ± std. dev. of 7 runs, 100,000,000 loops each)\n"
     ]
    }
   ],
   "source": [
    "%%timeit\n",
    "2+2\n"
   ],
   "metadata": {
    "collapsed": false,
    "ExecuteTime": {
     "end_time": "2024-03-20T08:44:14.023576Z",
     "start_time": "2024-03-20T08:44:10.860211Z"
    }
   },
   "id": "42dfddd9f3cc3ae4",
   "execution_count": 12
  },
  {
   "cell_type": "code",
   "outputs": [],
   "source": [],
   "metadata": {
    "collapsed": false
   },
   "id": "794b010a63c7180b"
  }
 ],
 "metadata": {
  "kernelspec": {
   "display_name": "Python 3 (ipykernel)",
   "language": "python",
   "name": "python3"
  },
  "language_info": {
   "codemirror_mode": {
    "name": "ipython",
    "version": 3
   },
   "file_extension": ".py",
   "mimetype": "text/x-python",
   "name": "python",
   "nbconvert_exporter": "python",
   "pygments_lexer": "ipython3",
   "version": "3.10.13"
  }
 },
 "nbformat": 4,
 "nbformat_minor": 5
}
